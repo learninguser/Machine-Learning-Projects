{
  "cells": [
    {
      "cell_type": "markdown",
      "metadata": {
        "id": "FsX4MddcO89f"
      },
      "source": [
        "# City Taxi Demand Prediction"
      ]
    },
    {
      "cell_type": "markdown",
      "metadata": {},
      "source": [
        "**Description**<br>\n",
        "Cab booking system is the process where renting a cab is automated through an app throughout a city. Using this app, people can book a cab from one location to another location. Being a cab booking app company, exploiting the understanding of cab supply and demand could increase the efficiency of their service and enhance user experience by minimizing waiting time.\n",
        "\n",
        "**Objective of this project** is to combine historical usage pattern along with the open data sources like weather data to forecast cab booking demand in a city."
      ]
    },
    {
      "cell_type": "markdown",
      "metadata": {
        "id": "GU5boxPvPLif"
      },
      "source": [
        "## Importing libraries"
      ]
    },
    {
      "cell_type": "code",
      "execution_count": null,
      "metadata": {
        "id": "Oiqdq641Os1p"
      },
      "outputs": [],
      "source": [
        "import numpy as np\n",
        "import pandas as pd\n",
        "import matplotlib.pyplot as plt\n",
        "import seaborn as sns\n",
        "\n",
        "%matplotlib inline"
      ]
    },
    {
      "cell_type": "markdown",
      "metadata": {
        "id": "MViwJZ73Pb6S"
      },
      "source": [
        "## Load the dataset"
      ]
    },
    {
      "cell_type": "code",
      "execution_count": null,
      "metadata": {
        "id": "d51w9hisPbkj"
      },
      "outputs": [],
      "source": [
        "# training dataset\n",
        "train = pd.read_csv('/content/drive/MyDrive/edureka_PGP/mid_project_1/train.csv')\n",
        "train_label = pd.read_csv('/content/drive/MyDrive/edureka_PGP/mid_project_1/train_label.csv', header=None)"
      ]
    },
    {
      "cell_type": "code",
      "execution_count": null,
      "metadata": {
        "id": "i-_vsx5HP2wh"
      },
      "outputs": [],
      "source": [
        "# Appending target label to the main dataframe\n",
        "train['Total_booking'] = train_label[0] "
      ]
    },
    {
      "cell_type": "code",
      "execution_count": null,
      "metadata": {
        "colab": {
          "base_uri": "https://localhost:8080/",
          "height": 204
        },
        "id": "mei27KV7QLoV",
        "outputId": "3de18e22-a2f1-4a30-e817-d68fdaa12582"
      },
      "outputs": [
        {
          "data": {
            "text/html": [
              "<div>\n",
              "<style scoped>\n",
              "    .dataframe tbody tr th:only-of-type {\n",
              "        vertical-align: middle;\n",
              "    }\n",
              "\n",
              "    .dataframe tbody tr th {\n",
              "        vertical-align: top;\n",
              "    }\n",
              "\n",
              "    .dataframe thead th {\n",
              "        text-align: right;\n",
              "    }\n",
              "</style>\n",
              "<table border=\"1\" class=\"dataframe\">\n",
              "  <thead>\n",
              "    <tr style=\"text-align: right;\">\n",
              "      <th></th>\n",
              "      <th>datetime</th>\n",
              "      <th>season</th>\n",
              "      <th>holiday</th>\n",
              "      <th>workingday</th>\n",
              "      <th>weather</th>\n",
              "      <th>temp</th>\n",
              "      <th>atemp</th>\n",
              "      <th>humidity</th>\n",
              "      <th>windspeed</th>\n",
              "      <th>Total_booking</th>\n",
              "    </tr>\n",
              "  </thead>\n",
              "  <tbody>\n",
              "    <tr>\n",
              "      <th>0</th>\n",
              "      <td>5/2/2012 19:00</td>\n",
              "      <td>Summer</td>\n",
              "      <td>0</td>\n",
              "      <td>1</td>\n",
              "      <td>Clear + Few clouds</td>\n",
              "      <td>22.14</td>\n",
              "      <td>25.760</td>\n",
              "      <td>77</td>\n",
              "      <td>16.9979</td>\n",
              "      <td>504</td>\n",
              "    </tr>\n",
              "    <tr>\n",
              "      <th>1</th>\n",
              "      <td>9/5/2012 4:00</td>\n",
              "      <td>Fall</td>\n",
              "      <td>0</td>\n",
              "      <td>1</td>\n",
              "      <td>Clear + Few clouds</td>\n",
              "      <td>28.70</td>\n",
              "      <td>33.335</td>\n",
              "      <td>79</td>\n",
              "      <td>19.0012</td>\n",
              "      <td>5</td>\n",
              "    </tr>\n",
              "    <tr>\n",
              "      <th>2</th>\n",
              "      <td>1/13/2011 9:00</td>\n",
              "      <td>Spring</td>\n",
              "      <td>0</td>\n",
              "      <td>1</td>\n",
              "      <td>Clear + Few clouds</td>\n",
              "      <td>5.74</td>\n",
              "      <td>6.060</td>\n",
              "      <td>50</td>\n",
              "      <td>22.0028</td>\n",
              "      <td>139</td>\n",
              "    </tr>\n",
              "    <tr>\n",
              "      <th>3</th>\n",
              "      <td>11/18/2011 16:00</td>\n",
              "      <td>Winter</td>\n",
              "      <td>0</td>\n",
              "      <td>1</td>\n",
              "      <td>Clear + Few clouds</td>\n",
              "      <td>13.94</td>\n",
              "      <td>16.665</td>\n",
              "      <td>29</td>\n",
              "      <td>8.9981</td>\n",
              "      <td>209</td>\n",
              "    </tr>\n",
              "    <tr>\n",
              "      <th>4</th>\n",
              "      <td>9/13/2011 13:00</td>\n",
              "      <td>Fall</td>\n",
              "      <td>0</td>\n",
              "      <td>1</td>\n",
              "      <td>Clear + Few clouds</td>\n",
              "      <td>30.34</td>\n",
              "      <td>33.335</td>\n",
              "      <td>51</td>\n",
              "      <td>19.0012</td>\n",
              "      <td>184</td>\n",
              "    </tr>\n",
              "  </tbody>\n",
              "</table>\n",
              "</div>"
            ],
            "text/plain": [
              "           datetime  season  holiday  ...  humidity windspeed  Total_booking\n",
              "0    5/2/2012 19:00  Summer        0  ...        77   16.9979            504\n",
              "1     9/5/2012 4:00    Fall        0  ...        79   19.0012              5\n",
              "2    1/13/2011 9:00  Spring        0  ...        50   22.0028            139\n",
              "3  11/18/2011 16:00  Winter        0  ...        29    8.9981            209\n",
              "4   9/13/2011 13:00    Fall        0  ...        51   19.0012            184\n",
              "\n",
              "[5 rows x 10 columns]"
            ]
          },
          "execution_count": 31,
          "metadata": {
            "tags": []
          },
          "output_type": "execute_result"
        }
      ],
      "source": [
        "train.head()"
      ]
    },
    {
      "cell_type": "markdown",
      "metadata": {
        "id": "rEqIA5fZr5rS"
      },
      "source": [
        "## Missing value analysis"
      ]
    },
    {
      "cell_type": "code",
      "execution_count": null,
      "metadata": {
        "colab": {
          "base_uri": "https://localhost:8080/"
        },
        "id": "QDitQeJGQxVW",
        "outputId": "21f2d705-e637-4b9c-df1d-e929f346af4a"
      },
      "outputs": [
        {
          "name": "stdout",
          "output_type": "stream",
          "text": [
            "<class 'pandas.core.frame.DataFrame'>\n",
            "RangeIndex: 8708 entries, 0 to 8707\n",
            "Data columns (total 10 columns):\n",
            " #   Column         Non-Null Count  Dtype  \n",
            "---  ------         --------------  -----  \n",
            " 0   datetime       8708 non-null   object \n",
            " 1   season         8708 non-null   object \n",
            " 2   holiday        8708 non-null   int64  \n",
            " 3   workingday     8708 non-null   int64  \n",
            " 4   weather        8708 non-null   object \n",
            " 5   temp           8708 non-null   float64\n",
            " 6   atemp          8708 non-null   float64\n",
            " 7   humidity       8708 non-null   int64  \n",
            " 8   windspeed      8708 non-null   float64\n",
            " 9   Total_booking  8708 non-null   int64  \n",
            "dtypes: float64(3), int64(4), object(3)\n",
            "memory usage: 680.4+ KB\n"
          ]
        }
      ],
      "source": [
        "train.info()"
      ]
    },
    {
      "cell_type": "code",
      "execution_count": null,
      "metadata": {
        "colab": {
          "base_uri": "https://localhost:8080/"
        },
        "id": "fyhRD_Fgr4di",
        "outputId": "749fa180-c677-48a0-e5b7-45c663050ae4"
      },
      "outputs": [
        {
          "data": {
            "text/plain": [
              "datetime         0\n",
              "season           0\n",
              "holiday          0\n",
              "workingday       0\n",
              "weather          0\n",
              "temp             0\n",
              "atemp            0\n",
              "humidity         0\n",
              "windspeed        0\n",
              "Total_booking    0\n",
              "dtype: int64"
            ]
          },
          "execution_count": 33,
          "metadata": {
            "tags": []
          },
          "output_type": "execute_result"
        }
      ],
      "source": [
        "train.isna().sum()"
      ]
    },
    {
      "cell_type": "markdown",
      "metadata": {
        "id": "AOQyPJ1bsEXQ"
      },
      "source": [
        "From the information obtained with the above analysis, we confirm that there are no missing values present in the dataset."
      ]
    },
    {
      "cell_type": "markdown",
      "metadata": {
        "id": "tvLiE7oPsRG9"
      },
      "source": [
        "## Outlier Analysis"
      ]
    },
    {
      "cell_type": "code",
      "execution_count": null,
      "metadata": {
        "colab": {
          "base_uri": "https://localhost:8080/"
        },
        "id": "8VPIAF1FVuo0",
        "outputId": "ccc68727-96fa-4342-c2b3-dbc008670ad0"
      },
      "outputs": [
        {
          "data": {
            "text/plain": [
              "2536"
            ]
          },
          "execution_count": 34,
          "metadata": {
            "tags": []
          },
          "output_type": "execute_result"
        }
      ],
      "source": [
        "np.sum(train['workingday'] == train['holiday'])"
      ]
    },
    {
      "cell_type": "code",
      "execution_count": null,
      "metadata": {
        "colab": {
          "base_uri": "https://localhost:8080/"
        },
        "id": "UzQ9ot0HQ0y4",
        "outputId": "b191b8d9-89d2-4b1b-9601-4f2d556fca04"
      },
      "outputs": [
        {
          "data": {
            "text/plain": [
              "29.12264584290308"
            ]
          },
          "execution_count": 35,
          "metadata": {
            "tags": []
          },
          "output_type": "execute_result"
        }
      ],
      "source": [
        "(np.sum(train['workingday'] == train['holiday'])/train.shape[0])*100"
      ]
    },
    {
      "cell_type": "markdown",
      "metadata": {
        "id": "0wn5GseCVIbv"
      },
      "source": [
        "It looks like we have 29.12 % (or 2536) of observations where both holiday and workingday values are same which is not correct and should be considered as missing values."
      ]
    },
    {
      "cell_type": "code",
      "execution_count": null,
      "metadata": {
        "colab": {
          "base_uri": "https://localhost:8080/"
        },
        "id": "Kei2sCM3WMY3",
        "outputId": "aa209bcf-5822-40a6-dd6a-92ba132b7995"
      },
      "outputs": [
        {
          "data": {
            "text/plain": [
              "0    97.152044\n",
              "1     2.847956\n",
              "Name: holiday, dtype: float64"
            ]
          },
          "execution_count": 36,
          "metadata": {
            "tags": []
          },
          "output_type": "execute_result"
        }
      ],
      "source": [
        "train['holiday'].value_counts(normalize=True)*100"
      ]
    },
    {
      "cell_type": "code",
      "execution_count": null,
      "metadata": {
        "colab": {
          "base_uri": "https://localhost:8080/"
        },
        "id": "TdyEn7faWUG9",
        "outputId": "31079372-c403-477e-d9c0-51ceab05e4f2"
      },
      "outputs": [
        {
          "data": {
            "text/plain": [
              "1    68.029398\n",
              "0    31.970602\n",
              "Name: workingday, dtype: float64"
            ]
          },
          "execution_count": 37,
          "metadata": {
            "tags": []
          },
          "output_type": "execute_result"
        }
      ],
      "source": [
        "train['workingday'].value_counts(normalize=True)*100"
      ]
    },
    {
      "cell_type": "markdown",
      "metadata": {
        "id": "gAzUMlX9Wgz5"
      },
      "source": [
        "From these we can observe that the dataset is more skewed towards holidays compared working days, so it would be better if we replace those entries which are considered to be as outliers with 1 (i.e. workingday)"
      ]
    },
    {
      "cell_type": "code",
      "execution_count": null,
      "metadata": {
        "id": "W1_fMR4DW6-N"
      },
      "outputs": [],
      "source": [
        "train.loc[train['workingday'] == train['holiday'],'holiday'] = 1"
      ]
    },
    {
      "cell_type": "code",
      "execution_count": null,
      "metadata": {
        "colab": {
          "base_uri": "https://localhost:8080/"
        },
        "id": "yyy0ikgoXOJg",
        "outputId": "76bc24b6-4532-48ef-ddcd-c4b5b0bc0eea"
      },
      "outputs": [
        {
          "data": {
            "text/plain": [
              "0    68.029398\n",
              "1    31.970602\n",
              "Name: holiday, dtype: float64"
            ]
          },
          "execution_count": 40,
          "metadata": {
            "tags": []
          },
          "output_type": "execute_result"
        }
      ],
      "source": [
        "train['holiday'].value_counts(normalize=True)*100"
      ]
    },
    {
      "cell_type": "markdown",
      "metadata": {
        "id": "chp0xKvXYV4G"
      },
      "source": [
        "After this imputation we observe that both the holiday and workingday follows the same distribution i.e. $$ holiday = 1 - workingday $$"
      ]
    },
    {
      "cell_type": "code",
      "execution_count": null,
      "metadata": {
        "colab": {
          "base_uri": "https://localhost:8080/",
          "height": 297
        },
        "id": "EM0R6m9eshaq",
        "outputId": "6a17b638-351a-403d-cb35-4376c17c23bd"
      },
      "outputs": [
        {
          "data": {
            "text/html": [
              "<div>\n",
              "<style scoped>\n",
              "    .dataframe tbody tr th:only-of-type {\n",
              "        vertical-align: middle;\n",
              "    }\n",
              "\n",
              "    .dataframe tbody tr th {\n",
              "        vertical-align: top;\n",
              "    }\n",
              "\n",
              "    .dataframe thead th {\n",
              "        text-align: right;\n",
              "    }\n",
              "</style>\n",
              "<table border=\"1\" class=\"dataframe\">\n",
              "  <thead>\n",
              "    <tr style=\"text-align: right;\">\n",
              "      <th></th>\n",
              "      <th>holiday</th>\n",
              "      <th>workingday</th>\n",
              "      <th>temp</th>\n",
              "      <th>atemp</th>\n",
              "      <th>humidity</th>\n",
              "      <th>windspeed</th>\n",
              "      <th>Total_booking</th>\n",
              "    </tr>\n",
              "  </thead>\n",
              "  <tbody>\n",
              "    <tr>\n",
              "      <th>count</th>\n",
              "      <td>8708.000000</td>\n",
              "      <td>8708.000000</td>\n",
              "      <td>8708.000000</td>\n",
              "      <td>8708.000000</td>\n",
              "      <td>8708.000000</td>\n",
              "      <td>8708.000000</td>\n",
              "      <td>8708.000000</td>\n",
              "    </tr>\n",
              "    <tr>\n",
              "      <th>mean</th>\n",
              "      <td>0.319706</td>\n",
              "      <td>0.680294</td>\n",
              "      <td>20.243020</td>\n",
              "      <td>23.655552</td>\n",
              "      <td>61.649173</td>\n",
              "      <td>12.843891</td>\n",
              "      <td>193.007005</td>\n",
              "    </tr>\n",
              "    <tr>\n",
              "      <th>std</th>\n",
              "      <td>0.466389</td>\n",
              "      <td>0.466389</td>\n",
              "      <td>7.813494</td>\n",
              "      <td>8.501107</td>\n",
              "      <td>19.199578</td>\n",
              "      <td>8.190314</td>\n",
              "      <td>181.552211</td>\n",
              "    </tr>\n",
              "    <tr>\n",
              "      <th>min</th>\n",
              "      <td>0.000000</td>\n",
              "      <td>0.000000</td>\n",
              "      <td>0.820000</td>\n",
              "      <td>0.760000</td>\n",
              "      <td>0.000000</td>\n",
              "      <td>0.000000</td>\n",
              "      <td>1.000000</td>\n",
              "    </tr>\n",
              "    <tr>\n",
              "      <th>25%</th>\n",
              "      <td>0.000000</td>\n",
              "      <td>0.000000</td>\n",
              "      <td>13.940000</td>\n",
              "      <td>16.665000</td>\n",
              "      <td>46.000000</td>\n",
              "      <td>7.001500</td>\n",
              "      <td>43.000000</td>\n",
              "    </tr>\n",
              "    <tr>\n",
              "      <th>50%</th>\n",
              "      <td>0.000000</td>\n",
              "      <td>1.000000</td>\n",
              "      <td>20.500000</td>\n",
              "      <td>24.240000</td>\n",
              "      <td>61.000000</td>\n",
              "      <td>12.998000</td>\n",
              "      <td>148.000000</td>\n",
              "    </tr>\n",
              "    <tr>\n",
              "      <th>75%</th>\n",
              "      <td>1.000000</td>\n",
              "      <td>1.000000</td>\n",
              "      <td>26.240000</td>\n",
              "      <td>31.060000</td>\n",
              "      <td>77.000000</td>\n",
              "      <td>16.997900</td>\n",
              "      <td>286.000000</td>\n",
              "    </tr>\n",
              "    <tr>\n",
              "      <th>max</th>\n",
              "      <td>1.000000</td>\n",
              "      <td>1.000000</td>\n",
              "      <td>41.000000</td>\n",
              "      <td>45.455000</td>\n",
              "      <td>100.000000</td>\n",
              "      <td>56.996900</td>\n",
              "      <td>977.000000</td>\n",
              "    </tr>\n",
              "  </tbody>\n",
              "</table>\n",
              "</div>"
            ],
            "text/plain": [
              "           holiday   workingday  ...    windspeed  Total_booking\n",
              "count  8708.000000  8708.000000  ...  8708.000000    8708.000000\n",
              "mean      0.319706     0.680294  ...    12.843891     193.007005\n",
              "std       0.466389     0.466389  ...     8.190314     181.552211\n",
              "min       0.000000     0.000000  ...     0.000000       1.000000\n",
              "25%       0.000000     0.000000  ...     7.001500      43.000000\n",
              "50%       0.000000     1.000000  ...    12.998000     148.000000\n",
              "75%       1.000000     1.000000  ...    16.997900     286.000000\n",
              "max       1.000000     1.000000  ...    56.996900     977.000000\n",
              "\n",
              "[8 rows x 7 columns]"
            ]
          },
          "execution_count": 41,
          "metadata": {
            "tags": []
          },
          "output_type": "execute_result"
        }
      ],
      "source": [
        "train.describe()"
      ]
    },
    {
      "cell_type": "code",
      "execution_count": null,
      "metadata": {
        "colab": {
          "base_uri": "https://localhost:8080/",
          "height": 265
        },
        "id": "iW4LDLEQs5-V",
        "outputId": "f643458c-d7d2-4aa7-82ff-e33b347944bc"
      },
      "outputs": [
        {
          "data": {
            "image/png": "[encoded data removed]",
            "text/plain": [
              "<Figure size 432x288 with 1 Axes>"
            ]
          },
          "metadata": {
            "needs_background": "light",
            "tags": []
          },
          "output_type": "display_data"
        }
      ],
      "source": [
        "train.boxplot(['atemp'])\n",
        "plt.show()"
      ]
    },
    {
      "cell_type": "code",
      "execution_count": null,
      "metadata": {
        "colab": {
          "base_uri": "https://localhost:8080/",
          "height": 265
        },
        "id": "_vygkatktCM8",
        "outputId": "ecd78469-57a8-459e-f6c9-a027dbed0705"
      },
      "outputs": [
        {
          "data": {
            "image/png": "[encoded data removed]",
            "text/plain": [
              "<Figure size 432x288 with 1 Axes>"
            ]
          },
          "metadata": {
            "needs_background": "light",
            "tags": []
          },
          "output_type": "display_data"
        }
      ],
      "source": [
        "train.boxplot(['temp'])\n",
        "plt.show()"
      ]
    },
    {
      "cell_type": "code",
      "execution_count": null,
      "metadata": {
        "colab": {
          "base_uri": "https://localhost:8080/",
          "height": 265
        },
        "id": "sxkkBB2DtXCP",
        "outputId": "79c098a7-bbc7-407f-9e4e-83bab400167c"
      },
      "outputs": [
        {
          "data": {
            "image/png": "[encoded data removed]",
            "text/plain": [
              "<Figure size 432x288 with 1 Axes>"
            ]
          },
          "metadata": {
            "needs_background": "light",
            "tags": []
          },
          "output_type": "display_data"
        }
      ],
      "source": [
        "train.boxplot(['humidity'])\n",
        "plt.show()"
      ]
    },
    {
      "cell_type": "code",
      "execution_count": null,
      "metadata": {
        "colab": {
          "base_uri": "https://localhost:8080/",
          "height": 265
        },
        "id": "0f0fRIMwtFvW",
        "outputId": "109abbd4-d239-4f91-f3f8-aba2f7135176"
      },
      "outputs": [
        {
          "data": {
            "image/png": "[encoded data removed]",
            "text/plain": [
              "<Figure size 432x288 with 1 Axes>"
            ]
          },
          "metadata": {
            "needs_background": "light",
            "tags": []
          },
          "output_type": "display_data"
        }
      ],
      "source": [
        "train.boxplot(['windspeed'])\n",
        "plt.show()"
      ]
    },
    {
      "cell_type": "code",
      "execution_count": null,
      "metadata": {
        "colab": {
          "base_uri": "https://localhost:8080/"
        },
        "id": "E866m4ditj8a",
        "outputId": "5d6cf9ad-1485-45ee-857d-c420664f5af2"
      },
      "outputs": [
        {
          "name": "stdout",
          "output_type": "stream",
          "text": [
            "0.02090032154340836\n"
          ]
        }
      ],
      "source": [
        "q1 = train['windspeed'].quantile(0.25)\n",
        "q3 = train['windspeed'].quantile(0.75)\n",
        "iqr = q3 - q1\n",
        "lower_lim = q1 - 1.5 * iqr\n",
        "upper_lim = q3 + 1.5 * iqr\n",
        "windspeed = train['windspeed']\n",
        "idx = (train['windspeed'] < lower_lim) | (train['windspeed'] > upper_lim)\n",
        "print(len(windspeed[idx])/train.shape[0])"
      ]
    },
    {
      "cell_type": "code",
      "execution_count": null,
      "metadata": {
        "colab": {
          "base_uri": "https://localhost:8080/",
          "height": 265
        },
        "id": "-BwboMuZwQuv",
        "outputId": "ff71b2c4-2f7b-4106-d27a-01600254d98d"
      },
      "outputs": [
        {
          "data": {
            "image/png": "[encoded data removed]",
            "text/plain": [
              "<Figure size 432x288 with 1 Axes>"
            ]
          },
          "metadata": {
            "needs_background": "light",
            "tags": []
          },
          "output_type": "display_data"
        }
      ],
      "source": [
        "train = train[~idx.values]\n",
        "train.boxplot(['windspeed'])\n",
        "plt.show()"
      ]
    },
    {
      "cell_type": "markdown",
      "metadata": {
        "id": "gyNaA9wstaKr"
      },
      "source": [
        "It looks like wind speed feature has around 2% of outliers. So as it is very low, its fine for us to remove those outliers from the dataset for the further analysis. After removing, we observe that this feature has no outliers."
      ]
    },
    {
      "cell_type": "markdown",
      "metadata": {
        "id": "3ryAFNRMNve1"
      },
      "source": [
        "## Feature Engineering"
      ]
    },
    {
      "cell_type": "code",
      "execution_count": null,
      "metadata": {
        "id": "Ji8m6Haj0x9Q"
      },
      "outputs": [],
      "source": [
        "for cat in ['season', 'weather']:\n",
        "  train[cat] = train[cat].astype('category')"
      ]
    },
    {
      "cell_type": "code",
      "execution_count": null,
      "metadata": {
        "colab": {
          "base_uri": "https://localhost:8080/"
        },
        "id": "n57DIqNqN-F1",
        "outputId": "77725cac-e79d-45fa-ccfb-841db4b167e4"
      },
      "outputs": [
        {
          "name": "stdout",
          "output_type": "stream",
          "text": [
            "<class 'pandas.core.frame.DataFrame'>\n",
            "Int64Index: 8526 entries, 0 to 8707\n",
            "Data columns (total 10 columns):\n",
            " #   Column         Non-Null Count  Dtype   \n",
            "---  ------         --------------  -----   \n",
            " 0   datetime       8526 non-null   object  \n",
            " 1   season         8526 non-null   category\n",
            " 2   holiday        8526 non-null   int64   \n",
            " 3   workingday     8526 non-null   int64   \n",
            " 4   weather        8526 non-null   category\n",
            " 5   temp           8526 non-null   float64 \n",
            " 6   atemp          8526 non-null   float64 \n",
            " 7   humidity       8526 non-null   int64   \n",
            " 8   windspeed      8526 non-null   float64 \n",
            " 9   Total_booking  8526 non-null   int64   \n",
            "dtypes: category(2), float64(3), int64(4), object(1)\n",
            "memory usage: 616.5+ KB\n"
          ]
        }
      ],
      "source": [
        "train.info()"
      ]
    },
    {
      "cell_type": "markdown",
      "metadata": {
        "id": "GJgV1Zx0OCBL"
      },
      "source": [
        "Now the data looks like in a perfect shape that the categorical columns looks categorical and numerical fields look numerical"
      ]
    },
    {
      "cell_type": "code",
      "execution_count": null,
      "metadata": {
        "id": "jEHUkDwJ978l"
      },
      "outputs": [],
      "source": [
        "def process_data(df):\n",
        "  df['datetime'] = pd.to_datetime(df['datetime'])\n",
        "  df['day'] = df['datetime'].dt.day\n",
        "  df['month'] = df['datetime'].dt.month\n",
        "  df['year'] = df['datetime'].dt.year\n",
        "  df['day_name'] = df['datetime'].dt.day_name()\n",
        "  df['hour'] = df['datetime'].dt.hour\n",
        "  df['weekday'] = df['datetime'].dt.weekday\n",
        "  return df"
      ]
    },
    {
      "cell_type": "code",
      "execution_count": null,
      "metadata": {
        "id": "Ys_tZNOTYlh5"
      },
      "outputs": [],
      "source": [
        "_ = process_data(train)"
      ]
    },
    {
      "cell_type": "markdown",
      "metadata": {
        "id": "hwxR6uT6NIul"
      },
      "source": [
        "Now that we have extracted useful features from the datetime feature, we can drop this feature from the original dataset"
      ]
    },
    {
      "cell_type": "code",
      "execution_count": null,
      "metadata": {
        "id": "Ln58_5jCNHYD"
      },
      "outputs": [],
      "source": [
        "train.drop('datetime', axis=1, inplace=True)"
      ]
    },
    {
      "cell_type": "code",
      "execution_count": null,
      "metadata": {
        "colab": {
          "base_uri": "https://localhost:8080/",
          "height": 204
        },
        "id": "JhAht9pNR7KH",
        "outputId": "9c233527-9cbc-4c15-a4d7-632071c9726a"
      },
      "outputs": [
        {
          "data": {
            "text/html": [
              "<div>\n",
              "<style scoped>\n",
              "    .dataframe tbody tr th:only-of-type {\n",
              "        vertical-align: middle;\n",
              "    }\n",
              "\n",
              "    .dataframe tbody tr th {\n",
              "        vertical-align: top;\n",
              "    }\n",
              "\n",
              "    .dataframe thead th {\n",
              "        text-align: right;\n",
              "    }\n",
              "</style>\n",
              "<table border=\"1\" class=\"dataframe\">\n",
              "  <thead>\n",
              "    <tr style=\"text-align: right;\">\n",
              "      <th></th>\n",
              "      <th>season</th>\n",
              "      <th>holiday</th>\n",
              "      <th>workingday</th>\n",
              "      <th>weather</th>\n",
              "      <th>temp</th>\n",
              "      <th>atemp</th>\n",
              "      <th>humidity</th>\n",
              "      <th>windspeed</th>\n",
              "      <th>Total_booking</th>\n",
              "      <th>day</th>\n",
              "      <th>month</th>\n",
              "      <th>year</th>\n",
              "      <th>day_name</th>\n",
              "      <th>hour</th>\n",
              "      <th>weekday</th>\n",
              "    </tr>\n",
              "  </thead>\n",
              "  <tbody>\n",
              "    <tr>\n",
              "      <th>0</th>\n",
              "      <td>Summer</td>\n",
              "      <td>0</td>\n",
              "      <td>1</td>\n",
              "      <td>Clear + Few clouds</td>\n",
              "      <td>22.14</td>\n",
              "      <td>25.760</td>\n",
              "      <td>77</td>\n",
              "      <td>16.9979</td>\n",
              "      <td>504</td>\n",
              "      <td>2</td>\n",
              "      <td>5</td>\n",
              "      <td>2012</td>\n",
              "      <td>Wednesday</td>\n",
              "      <td>19</td>\n",
              "      <td>2</td>\n",
              "    </tr>\n",
              "    <tr>\n",
              "      <th>1</th>\n",
              "      <td>Fall</td>\n",
              "      <td>0</td>\n",
              "      <td>1</td>\n",
              "      <td>Clear + Few clouds</td>\n",
              "      <td>28.70</td>\n",
              "      <td>33.335</td>\n",
              "      <td>79</td>\n",
              "      <td>19.0012</td>\n",
              "      <td>5</td>\n",
              "      <td>5</td>\n",
              "      <td>9</td>\n",
              "      <td>2012</td>\n",
              "      <td>Wednesday</td>\n",
              "      <td>4</td>\n",
              "      <td>2</td>\n",
              "    </tr>\n",
              "    <tr>\n",
              "      <th>2</th>\n",
              "      <td>Spring</td>\n",
              "      <td>0</td>\n",
              "      <td>1</td>\n",
              "      <td>Clear + Few clouds</td>\n",
              "      <td>5.74</td>\n",
              "      <td>6.060</td>\n",
              "      <td>50</td>\n",
              "      <td>22.0028</td>\n",
              "      <td>139</td>\n",
              "      <td>13</td>\n",
              "      <td>1</td>\n",
              "      <td>2011</td>\n",
              "      <td>Thursday</td>\n",
              "      <td>9</td>\n",
              "      <td>3</td>\n",
              "    </tr>\n",
              "    <tr>\n",
              "      <th>3</th>\n",
              "      <td>Winter</td>\n",
              "      <td>0</td>\n",
              "      <td>1</td>\n",
              "      <td>Clear + Few clouds</td>\n",
              "      <td>13.94</td>\n",
              "      <td>16.665</td>\n",
              "      <td>29</td>\n",
              "      <td>8.9981</td>\n",
              "      <td>209</td>\n",
              "      <td>18</td>\n",
              "      <td>11</td>\n",
              "      <td>2011</td>\n",
              "      <td>Friday</td>\n",
              "      <td>16</td>\n",
              "      <td>4</td>\n",
              "    </tr>\n",
              "    <tr>\n",
              "      <th>4</th>\n",
              "      <td>Fall</td>\n",
              "      <td>0</td>\n",
              "      <td>1</td>\n",
              "      <td>Clear + Few clouds</td>\n",
              "      <td>30.34</td>\n",
              "      <td>33.335</td>\n",
              "      <td>51</td>\n",
              "      <td>19.0012</td>\n",
              "      <td>184</td>\n",
              "      <td>13</td>\n",
              "      <td>9</td>\n",
              "      <td>2011</td>\n",
              "      <td>Tuesday</td>\n",
              "      <td>13</td>\n",
              "      <td>1</td>\n",
              "    </tr>\n",
              "  </tbody>\n",
              "</table>\n",
              "</div>"
            ],
            "text/plain": [
              "   season  holiday  workingday  ...   day_name  hour  weekday\n",
              "0  Summer        0           1  ...  Wednesday    19        2\n",
              "1    Fall        0           1  ...  Wednesday     4        2\n",
              "2  Spring        0           1  ...   Thursday     9        3\n",
              "3  Winter        0           1  ...     Friday    16        4\n",
              "4    Fall        0           1  ...    Tuesday    13        1\n",
              "\n",
              "[5 rows x 15 columns]"
            ]
          },
          "execution_count": 53,
          "metadata": {
            "tags": []
          },
          "output_type": "execute_result"
        }
      ],
      "source": [
        "train.head()"
      ]
    },
    {
      "cell_type": "markdown",
      "metadata": {
        "id": "r0V0-mqwOsF3"
      },
      "source": [
        "As there is a cylic pattern w.r.t. day, month, hour and weekday, we need to take this into consideration"
      ]
    },
    {
      "cell_type": "code",
      "execution_count": null,
      "metadata": {
        "id": "9a_plCjLOroG"
      },
      "outputs": [],
      "source": [
        "train['hr_sin'] = np.sin(train['hour']*(2.*np.pi/24))\n",
        "train['hr_cos'] = np.cos(train['hour']*(2.*np.pi/24))\n",
        "train['mnth_sin'] = np.sin((train['month']-1)*(2.*np.pi/12))\n",
        "train['mnth_cos'] = np.cos((train['month']-1)*(2.*np.pi/12))"
      ]
    },
    {
      "cell_type": "markdown",
      "metadata": {
        "id": "tLOsYh-6sYj3"
      },
      "source": [
        "## Visualizing Total_booking vs other features to generate insights"
      ]
    },
    {
      "cell_type": "code",
      "execution_count": null,
      "metadata": {
        "colab": {
          "base_uri": "https://localhost:8080/",
          "height": 350
        },
        "id": "2kGmQXYTSGlu",
        "outputId": "33a5db33-a938-4cf2-ba94-2a8cb4919f6b"
      },
      "outputs": [
        {
          "data": {
            "image/png": "[encoded data removed]",
            "text/plain": [
              "<Figure size 576x360 with 1 Axes>"
            ]
          },
          "metadata": {
            "needs_background": "light",
            "tags": []
          },
          "output_type": "display_data"
        }
      ],
      "source": [
        "x = train.sort_values('weekday')['day_name']\n",
        "y = train['Total_booking']\n",
        "plt.figure(figsize=(8, 5))\n",
        "sns.barplot(x = x, y = y)\n",
        "plt.title('Weekday vs Total no: of bookings')\n",
        "plt.xlabel('Weekday')\n",
        "plt.show()"
      ]
    },
    {
      "cell_type": "markdown",
      "metadata": {
        "id": "Ip0_UhkVWO28"
      },
      "source": [
        "From the above Barplot we observe that the bookings on the weekdays seems to follow nearly a uniform distribution but the bookings are slightly high on the weekends especially on Friday and Saturday."
      ]
    },
    {
      "cell_type": "code",
      "execution_count": null,
      "metadata": {
        "colab": {
          "base_uri": "https://localhost:8080/",
          "height": 350
        },
        "id": "T2JeUghwTK1t",
        "outputId": "6407723e-e190-4342-f34c-841dd417dbca"
      },
      "outputs": [
        {
          "data": {
            "image/png": "[encoded data removed]",
            "text/plain": [
              "<Figure size 576x360 with 1 Axes>"
            ]
          },
          "metadata": {
            "needs_background": "light",
            "tags": []
          },
          "output_type": "display_data"
        }
      ],
      "source": [
        "x = train['holiday']\n",
        "y = train['Total_booking']\n",
        "plt.figure(figsize=(8, 5))\n",
        "sns.barplot(x = x, y = y)\n",
        "plt.title('Holiday vs Total no: of bookings')\n",
        "plt.xlabel('Holiday')\n",
        "plt.show()"
      ]
    },
    {
      "cell_type": "markdown",
      "metadata": {
        "id": "cJRrUnZKWuP6"
      },
      "source": [
        "The number of bookings on the working days compared to the holidays. This may also imply that due to the imputation of outliers in the holidays with working days."
      ]
    },
    {
      "cell_type": "code",
      "execution_count": null,
      "metadata": {
        "colab": {
          "base_uri": "https://localhost:8080/",
          "height": 350
        },
        "id": "1Mvdir55WsWf",
        "outputId": "e3a62638-c28e-4fce-d43b-ad5e818647ba"
      },
      "outputs": [
        {
          "data": {
            "image/png": "[encoded data removed]",
            "text/plain": [
              "<Figure size 576x360 with 1 Axes>"
            ]
          },
          "metadata": {
            "needs_background": "light",
            "tags": []
          },
          "output_type": "display_data"
        }
      ],
      "source": [
        "x = train.sort_values('weekday')['hour']\n",
        "y = train['Total_booking']\n",
        "plt.figure(figsize=(8, 5))\n",
        "sns.barplot(x = x, y = y)\n",
        "plt.title('Hour of booking vs Total no: of bookings')\n",
        "plt.xlabel('Hour of booking')\n",
        "plt.show()"
      ]
    },
    {
      "cell_type": "markdown",
      "metadata": {
        "id": "_dEJcumpXc8J"
      },
      "source": [
        "It seems like people tend to travel more at the end of the  office hours using cabs rather than beginning hours"
      ]
    },
    {
      "cell_type": "code",
      "execution_count": null,
      "metadata": {
        "colab": {
          "base_uri": "https://localhost:8080/",
          "height": 350
        },
        "id": "46ksLWj2Wp-m",
        "outputId": "e7d588c5-b397-422d-c24e-0fc974f129e8"
      },
      "outputs": [
        {
          "data": {
            "image/png": "[encoded data removed]",
            "text/plain": [
              "<Figure size 576x360 with 1 Axes>"
            ]
          },
          "metadata": {
            "needs_background": "light",
            "tags": []
          },
          "output_type": "display_data"
        }
      ],
      "source": [
        "x = train['season']\n",
        "y = train['Total_booking']\n",
        "plt.figure(figsize=(8, 5))\n",
        "sns.barplot(x = x, y = y)\n",
        "plt.title('Season vs Total no: of bookings')\n",
        "plt.xlabel('Season')\n",
        "plt.show()"
      ]
    },
    {
      "cell_type": "markdown",
      "metadata": {
        "id": "fqZeg7A8X9ev"
      },
      "source": [
        "It seems like people tend to travel more in the Fall and Summer because of the pleasent weather climate. As there is some sort of trend in this, we will give some weight to the data that belongs to that category"
      ]
    },
    {
      "cell_type": "code",
      "execution_count": null,
      "metadata": {
        "id": "QkJAlpDHPcVq"
      },
      "outputs": [],
      "source": [
        "train['season'] = train['season'].map({'Fall':4, 'Summer': 3, 'Winter':2, 'Spring': 1})"
      ]
    },
    {
      "cell_type": "code",
      "execution_count": null,
      "metadata": {
        "colab": {
          "base_uri": "https://localhost:8080/",
          "height": 350
        },
        "id": "1DOVVqIgX861",
        "outputId": "772ebf94-861c-4283-bd0f-bdb6caa40600"
      },
      "outputs": [
        {
          "data": {
            "image/png": "[encoded data removed]",
            "text/plain": [
              "<Figure size 576x360 with 1 Axes>"
            ]
          },
          "metadata": {
            "needs_background": "light",
            "tags": []
          },
          "output_type": "display_data"
        }
      ],
      "source": [
        "x = train['atemp']\n",
        "y = train['Total_booking']\n",
        "plt.figure(figsize=(8, 5))\n",
        "sns.lineplot(x = x, y = y)\n",
        "plt.title('Feel like Temp. vs Total no: of bookings')\n",
        "plt.xlabel('Feel like Temp')\n",
        "plt.show()"
      ]
    },
    {
      "cell_type": "markdown",
      "metadata": {
        "id": "KXKVIK-k_Lfj"
      },
      "source": [
        "From the above graph, we can observe that the number of booking has increased as during the summers and there were moderate bookings when the temperature is between 20 - 30."
      ]
    },
    {
      "cell_type": "code",
      "execution_count": null,
      "metadata": {
        "colab": {
          "base_uri": "https://localhost:8080/",
          "height": 350
        },
        "id": "e9kDrzLYX5P8",
        "outputId": "75e8d943-0cce-47c0-c9fa-a7ff32ebf331"
      },
      "outputs": [
        {
          "data": {
            "image/png": "[encoded data removed]",
            "text/plain": [
              "<Figure size 720x360 with 1 Axes>"
            ]
          },
          "metadata": {
            "needs_background": "light",
            "tags": []
          },
          "output_type": "display_data"
        }
      ],
      "source": [
        "x = train['weather']\n",
        "y = train['Total_booking']\n",
        "plt.figure(figsize=(10, 5))\n",
        "sns.barplot(x = x, y = y)\n",
        "plt.title('Weather vs Total no: of bookings')\n",
        "plt.xlabel('Weather')\n",
        "plt.show()"
      ]
    },
    {
      "cell_type": "markdown",
      "metadata": {
        "id": "8QKgNgUtrSi8"
      },
      "source": [
        "People tend to travel more when the weather is clear with few clouds rather than a climate with light snow and light rain as its difficult to travel and also enjoy the weather."
      ]
    },
    {
      "cell_type": "markdown",
      "metadata": {
        "id": "n1jJDoq_yBOz"
      },
      "source": [
        "## Correlation Analysis"
      ]
    },
    {
      "cell_type": "code",
      "execution_count": null,
      "metadata": {
        "colab": {
          "base_uri": "https://localhost:8080/",
          "height": 545
        },
        "id": "5ySN4OZFrlfB",
        "outputId": "da4221ec-0f93-47b9-b229-5f3457a1b0c7"
      },
      "outputs": [
        {
          "data": {
            "image/png": "[encoded data removed]",
            "text/plain": [
              "<Figure size 1080x576 with 2 Axes>"
            ]
          },
          "metadata": {
            "needs_background": "light",
            "tags": []
          },
          "output_type": "display_data"
        }
      ],
      "source": [
        "plt.figure(figsize=(15,8))\n",
        "sns.heatmap(train.corr(), annot=True)\n",
        "plt.show()"
      ]
    },
    {
      "cell_type": "markdown",
      "metadata": {
        "id": "KnDMGmxTydfH"
      },
      "source": [
        "From the above correlation plot, we observe the following the points:\n",
        "\n",
        "1.   Features such as atemp, temp, humidity show a decent correlation with the target feature.\n",
        "2.   Temp and atemp are highly correlated, therefore we can discard one of the feature.\n",
        "3.   Hour and hr_sin, Weekday and working show a high negative correlation, so we can remove one of the feature.\n",
        "\n",
        "But there are multicolinear features in our dataset. For e.g. workingday and holiday, atemp and temp etc. So we can remove these features from our dataset.\n"
      ]
    },
    {
      "cell_type": "markdown",
      "metadata": {
        "id": "hy-96H54ssNA"
      },
      "source": [
        "## Train, test and CV data splitup"
      ]
    },
    {
      "cell_type": "code",
      "execution_count": null,
      "metadata": {
        "id": "18e1eaE_P-lX"
      },
      "outputs": [],
      "source": [
        "X = train.drop(['weekday', 'atemp', 'mnth_sin', 'hr_sin', 'Total_booking', 'holiday', 'weekday', 'day', 'day_name'], axis=1)\n",
        "y = train['Total_booking']"
      ]
    },
    {
      "cell_type": "code",
      "execution_count": null,
      "metadata": {
        "colab": {
          "base_uri": "https://localhost:8080/"
        },
        "id": "-jhoAQKqSe9X",
        "outputId": "7c7b340b-0f5b-411c-f31a-96833b2fbdbf"
      },
      "outputs": [
        {
          "name": "stdout",
          "output_type": "stream",
          "text": [
            "<class 'pandas.core.frame.DataFrame'>\n",
            "Int64Index: 8526 entries, 0 to 8707\n",
            "Data columns (total 11 columns):\n",
            " #   Column      Non-Null Count  Dtype   \n",
            "---  ------      --------------  -----   \n",
            " 0   season      8526 non-null   category\n",
            " 1   workingday  8526 non-null   int64   \n",
            " 2   weather     8526 non-null   category\n",
            " 3   temp        8526 non-null   float64 \n",
            " 4   humidity    8526 non-null   int64   \n",
            " 5   windspeed   8526 non-null   float64 \n",
            " 6   month       8526 non-null   int64   \n",
            " 7   year        8526 non-null   int64   \n",
            " 8   hour        8526 non-null   int64   \n",
            " 9   hr_cos      8526 non-null   float64 \n",
            " 10  mnth_cos    8526 non-null   float64 \n",
            "dtypes: category(2), float64(4), int64(5)\n",
            "memory usage: 1003.1 KB\n"
          ]
        }
      ],
      "source": [
        "X.info()"
      ]
    },
    {
      "cell_type": "code",
      "execution_count": null,
      "metadata": {
        "id": "UWIL4VkaScgA"
      },
      "outputs": [],
      "source": [
        "X['season'] = X['season'].astype('int64')\n",
        "X['year'] = X['year'].astype('category')\n",
        "X = pd.get_dummies(X, drop_first=True)"
      ]
    },
    {
      "cell_type": "code",
      "execution_count": null,
      "metadata": {
        "colab": {
          "base_uri": "https://localhost:8080/"
        },
        "id": "fEtVC9xqYWAD",
        "outputId": "33bf636e-16af-45a9-a5cd-86a401640ba5"
      },
      "outputs": [
        {
          "data": {
            "text/plain": [
              "Index(['season', 'workingday', 'temp', 'humidity', 'windspeed', 'month',\n",
              "       'hour', 'hr_cos', 'mnth_cos', 'weather_ Heavy Rain + Thunderstorm ',\n",
              "       'weather_ Light Snow, Light Rain', 'weather_ Mist + Cloudy ',\n",
              "       'year_2012'],\n",
              "      dtype='object')"
            ]
          },
          "execution_count": 105,
          "metadata": {
            "tags": []
          },
          "output_type": "execute_result"
        }
      ],
      "source": [
        "X.columns"
      ]
    },
    {
      "cell_type": "markdown",
      "metadata": {
        "id": "OEDxMCCZOCGg"
      },
      "source": [
        "Because we have a separate test dataset, in this case we are only considering to split the data into train and cross validation dataset."
      ]
    },
    {
      "cell_type": "code",
      "execution_count": null,
      "metadata": {
        "id": "xcZaL6oBsXot"
      },
      "outputs": [],
      "source": [
        "from sklearn.model_selection import train_test_split\n",
        "from sklearn.ensemble import GradientBoostingRegressor\n",
        "from sklearn.model_selection import cross_val_score\n",
        "from sklearn.metrics import mean_squared_error\n",
        "from sklearn.linear_model import LinearRegression"
      ]
    },
    {
      "cell_type": "code",
      "execution_count": null,
      "metadata": {
        "id": "6U4xY5IitxIc"
      },
      "outputs": [],
      "source": [
        "X_train, X_cv, y_train, y_cv = train_test_split(X, y, test_size=0.2, random_state=42)"
      ]
    },
    {
      "cell_type": "code",
      "execution_count": null,
      "metadata": {
        "id": "CojU-ZXdQLf6"
      },
      "outputs": [],
      "source": [
        "from sklearn.preprocessing import StandardScaler"
      ]
    },
    {
      "cell_type": "code",
      "execution_count": null,
      "metadata": {
        "id": "PcFLI7kEQP7B"
      },
      "outputs": [],
      "source": [
        "ss = StandardScaler()\n",
        "ss.fit(X_train)\n",
        "X_train = ss.transform(X_train)\n",
        "X_cv = ss.transform(X_cv)"
      ]
    },
    {
      "cell_type": "markdown",
      "metadata": {
        "id": "kLk6a2KGyoIH"
      },
      "source": [
        "## Training a Linear Regression with default parameters"
      ]
    },
    {
      "cell_type": "code",
      "execution_count": null,
      "metadata": {
        "colab": {
          "base_uri": "https://localhost:8080/"
        },
        "id": "i1hVhJ2Dv-pz",
        "outputId": "7bcd5032-e56a-4af2-b2d8-22ec7d0b65a1"
      },
      "outputs": [
        {
          "name": "stdout",
          "output_type": "stream",
          "text": [
            "RMSE: 126.03395783235477\n"
          ]
        }
      ],
      "source": [
        "lr = LinearRegression()\n",
        "lr.fit(X_train, y_train)\n",
        "y_pred = lr.predict(X_cv)\n",
        "print(f\"RMSE: {np.sqrt(mean_squared_error(y_cv, y_pred))}\")"
      ]
    },
    {
      "cell_type": "markdown",
      "metadata": {
        "id": "3W6px9ceO_wO"
      },
      "source": [
        "## Training a Gradient Boosting Regressor with default parameters"
      ]
    },
    {
      "cell_type": "code",
      "execution_count": null,
      "metadata": {
        "id": "isP7w1IcDdkM"
      },
      "outputs": [],
      "source": [
        "gbr = GradientBoostingRegressor(random_state=42)\n",
        "gbr.fit(X_train, y_train)\n",
        "y_pred = gbr.predict(X_cv)"
      ]
    },
    {
      "cell_type": "code",
      "execution_count": null,
      "metadata": {
        "colab": {
          "base_uri": "https://localhost:8080/"
        },
        "id": "rKBu0rzhOQnm",
        "outputId": "f99145d1-3fd0-4b29-c4da-76ec551f708c"
      },
      "outputs": [
        {
          "name": "stdout",
          "output_type": "stream",
          "text": [
            "RMSE: 61.5307278855512\n"
          ]
        }
      ],
      "source": [
        "print(f\"RMSE: {np.sqrt(mean_squared_error(y_cv, y_pred))}\")"
      ]
    },
    {
      "cell_type": "markdown",
      "metadata": {
        "id": "9S_BJMRTy3fC"
      },
      "source": [
        "Comparing Linear regression with Gradient Boosting, we observe that the Gradient Boosting model performance is better than LinearRegression"
      ]
    },
    {
      "cell_type": "markdown",
      "metadata": {
        "id": "a8wJakNocUm2"
      },
      "source": [
        "## Training a Random Forest Regressor with default parameters"
      ]
    },
    {
      "cell_type": "code",
      "execution_count": null,
      "metadata": {
        "id": "9D-ldxs4Tta9"
      },
      "outputs": [],
      "source": [
        "from sklearn.ensemble import RandomForestRegressor"
      ]
    },
    {
      "cell_type": "code",
      "execution_count": null,
      "metadata": {
        "id": "wTTXuPCtTvqD"
      },
      "outputs": [],
      "source": [
        "rfr = RandomForestRegressor(random_state=42)\n",
        "rfr.fit(X_train, y_train)\n",
        "y_pred = rfr.predict(X_cv)"
      ]
    },
    {
      "cell_type": "code",
      "execution_count": null,
      "metadata": {
        "colab": {
          "base_uri": "https://localhost:8080/"
        },
        "id": "pcG1qS2rT1wE",
        "outputId": "b720b033-6526-47b7-eeb2-40581f946af3"
      },
      "outputs": [
        {
          "name": "stdout",
          "output_type": "stream",
          "text": [
            "RMSE: 46.892108403038854\n"
          ]
        }
      ],
      "source": [
        "print(f\"RMSE: {np.sqrt(mean_squared_error(y_cv, y_pred))}\")"
      ]
    },
    {
      "cell_type": "markdown",
      "metadata": {
        "id": "v1nehggoT40h"
      },
      "source": [
        "Random Forest with default parameters performed even better than Gradient Boosting Regressor"
      ]
    },
    {
      "cell_type": "markdown",
      "metadata": {
        "id": "ETZmThsFPIrS"
      },
      "source": [
        "## Grid search"
      ]
    },
    {
      "cell_type": "code",
      "execution_count": null,
      "metadata": {
        "id": "v1gyAtB7ORsS"
      },
      "outputs": [],
      "source": [
        "from sklearn.model_selection import RandomizedSearchCV"
      ]
    },
    {
      "cell_type": "code",
      "execution_count": null,
      "metadata": {
        "colab": {
          "base_uri": "https://localhost:8080/"
        },
        "id": "8z8wrbakP1Pq",
        "outputId": "7e415013-e2d4-4e99-ec96-755cbc1d31a4"
      },
      "outputs": [
        {
          "name": "stdout",
          "output_type": "stream",
          "text": [
            "Fitting 5 folds for each of 10 candidates, totalling 50 fits\n"
          ]
        },
        {
          "name": "stderr",
          "output_type": "stream",
          "text": [
            "[Parallel(n_jobs=1)]: Using backend SequentialBackend with 1 concurrent workers.\n",
            "[Parallel(n_jobs=1)]: Done  50 out of  50 | elapsed:  6.6min finished\n"
          ]
        },
        {
          "name": "stdout",
          "output_type": "stream",
          "text": [
            "0.9350432001452358 {'n_estimators': 100, 'max_features': 'auto', 'criterion': 'mse'}\n"
          ]
        }
      ],
      "source": [
        "para_grids = {\n",
        "    \"criterion\": [\"mse\", \"mae\"],\n",
        "    \"n_estimators\" : [10, 50, 100],\n",
        "    \"max_features\" : [\"auto\", \"log2\", \"sqrt\"],\n",
        "    }\n",
        "rfr = RandomForestRegressor(random_state=42)\n",
        "grid = RandomizedSearchCV(rfr, para_grids, cv=5, verbose=1, n_jobs=1)\n",
        "grid.fit(X_train, y_train)\n",
        "print(grid.best_score_, grid.best_params_)"
      ]
    },
    {
      "cell_type": "code",
      "execution_count": null,
      "metadata": {
        "colab": {
          "base_uri": "https://localhost:8080/"
        },
        "id": "om_h4WufQZ__",
        "outputId": "a186120e-1b48-4946-bc6d-5b51a619090a"
      },
      "outputs": [
        {
          "name": "stdout",
          "output_type": "stream",
          "text": [
            "RMSE: 46.892108403038854\n"
          ]
        }
      ],
      "source": [
        "forest = grid.best_estimator_\n",
        "y_pred = forest.predict(X_cv)\n",
        "print(f\"RMSE: {np.sqrt(mean_squared_error(y_cv, y_pred))}\")"
      ]
    },
    {
      "cell_type": "markdown",
      "metadata": {
        "id": "-NKI5VL4VsBp"
      },
      "source": [
        "Looks like even after performing GridSearch the RMSE value in the case of RandomForestRegressor remained the same."
      ]
    },
    {
      "cell_type": "markdown",
      "metadata": {
        "id": "cOP4QL5v9suk"
      },
      "source": [
        "## Testing the model with the Final test dataset"
      ]
    },
    {
      "cell_type": "code",
      "execution_count": null,
      "metadata": {
        "id": "IV6G1A4E_0mH"
      },
      "outputs": [],
      "source": [
        "# testing dataset\n",
        "test = pd.read_csv('/content/drive/MyDrive/edureka_PGP/mid_project_1/test.csv')\n",
        "test_label = pd.read_csv('/content/drive/MyDrive/edureka_PGP/mid_project_1/test_label.csv', header=None)"
      ]
    },
    {
      "cell_type": "code",
      "execution_count": null,
      "metadata": {
        "id": "-2z4livM_C6Y"
      },
      "outputs": [],
      "source": [
        "for cat in ['season', 'weather']:\n",
        "  test[cat] = test[cat].astype('category')"
      ]
    },
    {
      "cell_type": "code",
      "execution_count": null,
      "metadata": {
        "id": "mATR0ExmAi-F"
      },
      "outputs": [],
      "source": [
        "_ = process_data(test)\n",
        "test.drop('datetime', axis=1, inplace=True)"
      ]
    },
    {
      "cell_type": "code",
      "execution_count": null,
      "metadata": {
        "id": "Ht93gYh3WwV2"
      },
      "outputs": [],
      "source": [
        "test['hr_sin'] = np.sin(test['hour']*(2.*np.pi/24))\n",
        "test['hr_cos'] = np.cos(test['hour']*(2.*np.pi/24))\n",
        "test['mnth_sin'] = np.sin((test['month']-1)*(2.*np.pi/12))\n",
        "test['mnth_cos'] = np.cos((test['month']-1)*(2.*np.pi/12))"
      ]
    },
    {
      "cell_type": "code",
      "execution_count": null,
      "metadata": {
        "id": "D9_sRz7XAACp"
      },
      "outputs": [],
      "source": [
        "X_test = test.drop(['weekday', 'atemp', 'mnth_sin', 'hr_sin', 'holiday', 'weekday', 'day', 'day_name'], axis=1)"
      ]
    },
    {
      "cell_type": "code",
      "execution_count": null,
      "metadata": {
        "id": "xk7A_Zj8XPA5"
      },
      "outputs": [],
      "source": [
        "X_test['season'] = X_test['season'].map({'Fall':4, 'Summer': 3, 'Winter':2, 'Spring': 1})"
      ]
    },
    {
      "cell_type": "code",
      "execution_count": null,
      "metadata": {
        "colab": {
          "base_uri": "https://localhost:8080/"
        },
        "id": "qeRQ_mavY9yx",
        "outputId": "6bc8e2ca-516d-485c-edb1-f8fe4b12eb45"
      },
      "outputs": [
        {
          "data": {
            "text/plain": [
              "Index(['season', 'workingday', 'weather', 'temp', 'humidity', 'windspeed',\n",
              "       'month', 'year', 'hour', 'hr_cos', 'mnth_cos'],\n",
              "      dtype='object')"
            ]
          },
          "execution_count": 123,
          "metadata": {
            "tags": []
          },
          "output_type": "execute_result"
        }
      ],
      "source": [
        "X_test.columns"
      ]
    },
    {
      "cell_type": "code",
      "execution_count": null,
      "metadata": {
        "id": "ghuDnnQZ_Use"
      },
      "outputs": [],
      "source": [
        "X_test['season'] = X_test['season'].astype('int64')\n",
        "X_test['year'] = X_test['year'].astype('category')\n",
        "X_test = pd.get_dummies(X_test)"
      ]
    },
    {
      "cell_type": "code",
      "execution_count": null,
      "metadata": {
        "colab": {
          "base_uri": "https://localhost:8080/"
        },
        "id": "tCgTddNv_mf_",
        "outputId": "ae2feba2-4969-40b4-d8be-45439db0a8e1"
      },
      "outputs": [
        {
          "data": {
            "text/plain": [
              "{'weather_ Heavy Rain + Thunderstorm '}"
            ]
          },
          "execution_count": 129,
          "metadata": {
            "tags": []
          },
          "output_type": "execute_result"
        }
      ],
      "source": [
        "set(X.columns) - set(X_test.columns)"
      ]
    },
    {
      "cell_type": "code",
      "execution_count": null,
      "metadata": {
        "id": "g84JDtfSZlEW"
      },
      "outputs": [],
      "source": [
        "X_test['weather_ Heavy Rain + Thunderstorm '] = 0"
      ]
    },
    {
      "cell_type": "code",
      "execution_count": null,
      "metadata": {
        "id": "Jo0l_LEcXrNT"
      },
      "outputs": [],
      "source": [
        "X_test = X_test[X.columns]"
      ]
    },
    {
      "cell_type": "code",
      "execution_count": null,
      "metadata": {
        "id": "EOWXNjyXZ5O8"
      },
      "outputs": [],
      "source": [
        "X_test = ss.transform(X_test)"
      ]
    },
    {
      "cell_type": "code",
      "execution_count": null,
      "metadata": {
        "colab": {
          "base_uri": "https://localhost:8080/"
        },
        "id": "RlyKuIKUBT3W",
        "outputId": "580db827-249f-4025-f4f2-4e0a3516b308"
      },
      "outputs": [
        {
          "name": "stdout",
          "output_type": "stream",
          "text": [
            "RMSE: 45.65907785671241\n"
          ]
        }
      ],
      "source": [
        "y_pred = forest.predict(X_test)\n",
        "print(f\"RMSE: {np.sqrt(mean_squared_error(test_label, y_pred))}\")"
      ]
    },
    {
      "cell_type": "markdown",
      "metadata": {
        "id": "DerB0pMyaC1s"
      },
      "source": [
        "Comparing train and test RMSE, we observe that the model has generalised well with out any overfitting and has performed well on the test data too"
      ]
    },
    {
      "cell_type": "markdown",
      "metadata": {
        "id": "6txjt-IRb44B"
      },
      "source": [
        "## Summary"
      ]
    },
    {
      "cell_type": "markdown",
      "metadata": {
        "id": "HTOd9mx3bC3Y"
      },
      "source": [
        "1.   First we imported the dataset and then checked if there are any outliers in the dataset.\n",
        "2.   After handling the outliers using IQR, we performed Feature Engineering such as extracting important information from the datetime column in the dataset and converting it in to something useful.\n",
        "3.   Continuing on, we removed the correlated feature in order to avoid multicolinearity.\n",
        "4.   Then we build and test with 3 Machine Learning Models:\n",
        "      1.   Linear Regression - RMSE: 126.03\n",
        "      2.   Gradient Boosting Regressor - RMSE: 61.53\n",
        "      3.   Random Forest Regressor - RMSE: 46.89\n",
        "**Among all the 3 models, we observed that Random Forest Regressor performed well.**\n",
        "5.    To further improve the performance we looked to better hyperparameters by doing Grid Search but the performance remained **unaffected**.\n",
        "6.    Finally, we tested the performance of the model using a separate testing dataset and observed that the model was trained well with neither overfitting nor underfitting and the RMSE obtained is: 45.65.\n",
        "\n"
      ]
    }
  ],
  "metadata": {
    "colab": {
      "collapsed_sections": [],
      "name": "City Taxi Demand Prediction",
      "provenance": [],
      "toc_visible": true
    },
    "kernelspec": {
      "display_name": "Python 3",
      "name": "python3"
    }
  },
  "nbformat": 4,
  "nbformat_minor": 0
}
